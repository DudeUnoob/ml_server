{
 "cells": [
  {
   "cell_type": "code",
   "execution_count": 113,
   "metadata": {},
   "outputs": [],
   "source": [
    "import pandas as pd\n",
    "import numpy as np\n",
    "import matplotlib.pyplot as plt\n",
    "import seaborn as sns\n"
   ]
  },
  {
   "cell_type": "code",
   "execution_count": 114,
   "metadata": {},
   "outputs": [
    {
     "name": "stdout",
     "output_type": "stream",
     "text": []
    }
   ],
   "source": [
    "df = pd.read_csv(\"../data/heart_data.csv\")\n",
    "\n",
    "df_dropped_rows = df.dropna()\n",
    "\n",
    "df_dropped_columns = df.dropna(axis=1)\n",
    "\n",
    "df.isnull().sum()"
   ]
  },
  {
   "cell_type": "code",
   "execution_count": 115,
   "metadata": {},
   "outputs": [
    {
     "name": "stdout",
     "output_type": "stream",
     "text": []
    }
   ],
   "source": [
    "df.sample(5)"
   ]
  },
  {
   "cell_type": "code",
   "execution_count": 116,
   "metadata": {},
   "outputs": [
    {
     "name": "stdout",
     "output_type": "stream",
     "text": []
    }
   ],
   "source": [
    "from sklearn.preprocessing import LabelEncoder, OneHotEncoder\n",
    "\n",
    "label_encoder = LabelEncoder()\n",
    "\n",
    "df['ST_Slope'] = label_encoder.fit_transform(df['ST_Slope'])\n",
    "df['ChestPainType'] = df['ChestPainType'].replace({'TA': 0, 'ATA': 1, 'NAP': 2, 'ASY': 3})\n",
    "df['RestingECG'] = df['RestingECG'].replace({ \"Normal\": 0, \"ST\": 1, \"LVH\": 2})\n",
    "df['ExerciseAngina'] = df['ExerciseAngina'].replace({\"Y\": 1, \"N\": 0})\n",
    "df['Sex'] = df['Sex'].replace({ \"M\": 1, \"F\": 0 })\n"
   ]
  },
  {
   "cell_type": "code",
   "execution_count": 117,
   "metadata": {},
   "outputs": [
    {
     "name": "stdout",
     "output_type": "stream",
     "text": []
    }
   ],
   "source": [
    "df.columns\n",
    "\n",
    "X = df.drop('HeartDisease', axis=1)\n",
    "\n",
    "y = df['HeartDisease']\n",
    "\n",
    "X.head()"
   ]
  },
  {
   "cell_type": "code",
   "execution_count": 118,
   "metadata": {},
   "outputs": [
    {
     "name": "stdout",
     "output_type": "stream",
     "text": []
    }
   ],
   "source": [
    "from sklearn.model_selection import train_test_split\n",
    "\n",
    "\n",
    "X_train, X_test, y_train, y_test = train_test_split(X, y, test_size=0.3, random_state=42)\n",
    "\n",
    "X_train.shape, y_train.shape"
   ]
  },
  {
   "cell_type": "code",
   "execution_count": 119,
   "metadata": {},
   "outputs": [
    {
     "name": "stdout",
     "output_type": "stream",
     "text": []
    }
   ],
   "source": [
    "from sklearn.ensemble import RandomForestClassifier\n",
    "\n",
    "tree = RandomForestClassifier()\n",
    "\n",
    "tree.fit(X_train, y_train)"
   ]
  },
  {
   "cell_type": "code",
   "execution_count": 120,
   "metadata": {},
   "outputs": [],
   "source": [
    "tree_pred = tree.predict(X_test)\n",
    "\n"
   ]
  },
  {
   "cell_type": "code",
   "execution_count": 125,
   "metadata": {},
   "outputs": [
    {
     "name": "stdout",
     "output_type": "stream",
     "text": []
    }
   ],
   "source": [
    "from sklearn.metrics import confusion_matrix, accuracy_score, classification_report\n",
    "from sklearn.model_selection import GridSearchCV\n",
    "\n",
    "matrix = confusion_matrix(y_test, tree_pred)\n",
    "\n",
    "print(matrix)"
   ]
  },
  {
   "cell_type": "code",
   "execution_count": 126,
   "metadata": {},
   "outputs": [
    {
     "name": "stdout",
     "output_type": "stream",
     "text": []
    }
   ],
   "source": [
    "# Feature Importance\n",
    "importances = tree.feature_importances_\n",
    "indices = np.argsort(importances)[::-1]\n",
    "\n",
    "feature_names = list(df.columns)\n",
    "\n",
    "\n",
    "plt.figure()\n",
    "plt.title(\"Feature Importances\")\n",
    "plt.bar(range(X.shape[1]), importances[indices], color=\"r\", align=\"center\")\n",
    "plt.xticks(range(X.shape[1]), [feature_names[i] for i in indices], rotation=90)\n",
    "plt.xlim([-1, X.shape[1]])\n",
    "plt.show()"
   ]
  },
  {
   "cell_type": "code",
   "execution_count": 127,
   "metadata": {},
   "outputs": [
    {
     "name": "stdout",
     "output_type": "stream",
     "text": []
    }
   ],
   "source": [
    "accuracy = accuracy_score(y_test, tree_pred)\n",
    "\n",
    "print(f'Accuracy: {accuracy}')\n",
    "\n",
    "\n",
    "cr = classification_report(y_test, tree_pred)\n",
    "\n",
    "print(cr)"
   ]
  },
  {
   "cell_type": "code",
   "execution_count": 128,
   "metadata": {},
   "outputs": [
    {
     "name": "stdout",
     "output_type": "stream",
     "text": []
    },
    {
     "name": "stdout",
     "output_type": "stream",
     "text": []
    }
   ],
   "source": [
    "param_grid = {\n",
    "    \"n_estimators\": range(50, 300, 50),         # Number of trees in the forest\n",
    "    \"max_depth\": range(3, 11),                    # Maximum depth of each tree\n",
    "    \"min_samples_split\": [2, 5, 10],              # Minimum number of samples required to split an internal node\n",
    "    \"min_samples_leaf\": [1, 2, 4],                # Minimum number of samples required at a leaf node\n",
    "    \"max_features\": [\"sqrt\", \"log2\", None],       # Number of features to consider when looking for the best split\n",
    "    \"bootstrap\": [True, False]                    # Whether bootstrap samples are used when building trees\n",
    "}\n",
    "\n",
    "\n",
    "tree_grid = GridSearchCV(estimator=RandomForestClassifier(), param_grid=param_grid, cv=5, verbose=1, n_jobs=-1)\n",
    "\n",
    "tree_grid.fit(X_train, y_train)\n",
    "\n",
    "\n",
    "best_params = tree_grid.best_params_\n",
    "\n",
    "print(f'Best Hyperparamers: {best_params}')\n",
    "\n",
    "tree_pred = tree_grid.best_estimator_.predict(X_test)\n",
    "\n",
    "accuracy = accuracy_score(y_test, tree_pred)\n",
    "print(f'Accuracy: {accuracy:.2f}')\n",
    "\n",
    "cm = confusion_matrix(y_test, tree_pred)\n",
    "print('Confusion Matrix:')\n",
    "print(cm)\n",
    "\n",
    "cr = classification_report(y_test, tree_pred)\n",
    "print('Classification Report:')\n",
    "print(cr)"
   ]
  },
  {
   "cell_type": "code",
   "execution_count": 129,
   "metadata": {},
   "outputs": [
    {
     "name": "stdout",
     "output_type": "stream",
     "text": []
    }
   ],
   "source": [
    "import joblib\n",
    "\n",
    "joblib.dump(tree, \"model.pkl\")"
   ]
  },
  {
   "cell_type": "code",
   "execution_count": null,
   "metadata": {},
   "outputs": [],
   "source": []
  }
 ],
 "metadata": {
  "kernelspec": {
   "display_name": "venv",
   "language": "python",
   "name": "python3"
  },
  "language_info": {
   "codemirror_mode": {
    "name": "ipython",
    "version": 3
   },
   "file_extension": ".py",
   "mimetype": "text/x-python",
   "name": "python",
   "nbconvert_exporter": "python",
   "pygments_lexer": "ipython3",
   "version": "3.10.6"
  }
 },
 "nbformat": 4,
 "nbformat_minor": 2
}
